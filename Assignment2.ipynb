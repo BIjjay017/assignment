{
 "cells": [
  {
   "cell_type": "code",
   "execution_count": 1,
   "id": "b468d055",
   "metadata": {},
   "outputs": [],
   "source": [
    "import numpy as np"
   ]
  },
  {
   "cell_type": "code",
   "execution_count": 2,
   "id": "9d8fb772",
   "metadata": {},
   "outputs": [
    {
     "data": {
      "text/plain": [
       "array([[ 1,  2,  3,  4,  5,  6,  7,  8,  9, 10]])"
      ]
     },
     "execution_count": 2,
     "metadata": {},
     "output_type": "execute_result"
    }
   ],
   "source": [
    "one_dim=np.array([range(1,11)])\n",
    "one_dim"
   ]
  },
  {
   "cell_type": "code",
   "execution_count": 5,
   "id": "39f08567",
   "metadata": {},
   "outputs": [
    {
     "data": {
      "text/plain": [
       "array([[0.79410191, 0.61296994, 0.03564056, 0.98793557],\n",
       "       [0.52479856, 0.49682932, 0.24815299, 0.21875123],\n",
       "       [0.74151965, 0.09746382, 0.16404273, 0.05390687]])"
      ]
     },
     "execution_count": 5,
     "metadata": {},
     "output_type": "execute_result"
    }
   ],
   "source": [
    "two_dim=np.random.rand(3,4)\n",
    "two_dim"
   ]
  },
  {
   "cell_type": "code",
   "execution_count": 9,
   "id": "51a00200",
   "metadata": {},
   "outputs": [
    {
     "data": {
      "text/plain": [
       "array([[[0., 0., 0., 0.],\n",
       "        [0., 0., 0., 0.],\n",
       "        [0., 0., 0., 0.]],\n",
       "\n",
       "       [[0., 0., 0., 0.],\n",
       "        [0., 0., 0., 0.],\n",
       "        [0., 0., 0., 0.]]])"
      ]
     },
     "execution_count": 9,
     "metadata": {},
     "output_type": "execute_result"
    }
   ],
   "source": [
    "zero_arr=np.zeros((2,3,4))\n",
    "zero_arr"
   ]
  },
  {
   "cell_type": "code",
   "execution_count": 13,
   "id": "b8a7dc96",
   "metadata": {},
   "outputs": [
    {
     "data": {
      "text/plain": [
       "array([  21,  211, 2111])"
      ]
     },
     "execution_count": 13,
     "metadata": {},
     "output_type": "execute_result"
    }
   ],
   "source": [
    "a=np.array([10,100,1000])\n",
    "b=np.array([11,111,1111])\n",
    "add_op=a+b\n",
    "add_op"
   ]
  },
  {
   "cell_type": "code",
   "execution_count": 14,
   "id": "5ee39e66",
   "metadata": {},
   "outputs": [
    {
     "data": {
      "text/plain": [
       "array([  -1,  -11, -111])"
      ]
     },
     "execution_count": 14,
     "metadata": {},
     "output_type": "execute_result"
    }
   ],
   "source": [
    "sub_op=a-b\n",
    "sub_op"
   ]
  },
  {
   "cell_type": "code",
   "execution_count": 15,
   "id": "3d12a5cb",
   "metadata": {},
   "outputs": [
    {
     "data": {
      "text/plain": [
       "array([    110,   11100, 1111000])"
      ]
     },
     "execution_count": 15,
     "metadata": {},
     "output_type": "execute_result"
    }
   ],
   "source": [
    "mul_op=a*b\n",
    "mul_op"
   ]
  },
  {
   "cell_type": "code",
   "execution_count": 16,
   "id": "7d6d29a0",
   "metadata": {},
   "outputs": [
    {
     "data": {
      "text/plain": [
       "array([0.90909091, 0.9009009 , 0.90009001])"
      ]
     },
     "execution_count": 16,
     "metadata": {},
     "output_type": "execute_result"
    }
   ],
   "source": [
    "divide_op=a/b\n",
    "divide_op"
   ]
  },
  {
   "cell_type": "code",
   "execution_count": 17,
   "id": "4f65957f",
   "metadata": {},
   "outputs": [
    {
     "data": {
      "text/plain": [
       "370.0"
      ]
     },
     "execution_count": 17,
     "metadata": {},
     "output_type": "execute_result"
    }
   ],
   "source": [
    "mean_arr=np.mean(a)\n",
    "mean_arr"
   ]
  },
  {
   "cell_type": "code",
   "execution_count": 18,
   "id": "50de0cc9",
   "metadata": {},
   "outputs": [
    {
     "data": {
      "text/plain": [
       "100.0"
      ]
     },
     "execution_count": 18,
     "metadata": {},
     "output_type": "execute_result"
    }
   ],
   "source": [
    "median_arr=np.median(a)\n",
    "median_arr"
   ]
  },
  {
   "cell_type": "code",
   "execution_count": 19,
   "id": "d478c293",
   "metadata": {},
   "outputs": [
    {
     "data": {
      "text/plain": [
       "446.9899327725402"
      ]
     },
     "execution_count": 19,
     "metadata": {},
     "output_type": "execute_result"
    }
   ],
   "source": [
    "std_arr=np.std(a)\n",
    "std_arr"
   ]
  },
  {
   "cell_type": "code",
   "execution_count": 27,
   "id": "32e30bae",
   "metadata": {},
   "outputs": [
    {
     "data": {
      "text/plain": [
       "array([[ 1,  2,  3,  4],\n",
       "       [ 5,  6,  7,  8],\n",
       "       [ 9, 10, 11, 12]])"
      ]
     },
     "execution_count": 27,
     "metadata": {},
     "output_type": "execute_result"
    }
   ],
   "source": [
    "arr=np.array([1,2,3,4,5,6,7,8,9,10,11,12])\n",
    "reshape_arr=arr.reshape((3,4))\n",
    "reshape_arr"
   ]
  },
  {
   "cell_type": "code",
   "execution_count": 28,
   "id": "f9fc6b06",
   "metadata": {},
   "outputs": [
    {
     "data": {
      "text/plain": [
       "array([[1, 2, 3],\n",
       "       [4, 5, 6],\n",
       "       [7, 8, 9]])"
      ]
     },
     "execution_count": 28,
     "metadata": {},
     "output_type": "execute_result"
    }
   ],
   "source": [
    "twod_mat=np.array([[1,2,3],[4,5,6],[7,8,9]])\n",
    "twod_mat"
   ]
  },
  {
   "cell_type": "code",
   "execution_count": 29,
   "id": "a7564ad3",
   "metadata": {},
   "outputs": [
    {
     "data": {
      "text/plain": [
       "array([1, 2, 3])"
      ]
     },
     "execution_count": 29,
     "metadata": {},
     "output_type": "execute_result"
    }
   ],
   "source": [
    "first_row=twod_mat[0]\n",
    "first_row"
   ]
  },
  {
   "cell_type": "code",
   "execution_count": 32,
   "id": "1e85e21f",
   "metadata": {},
   "outputs": [
    {
     "data": {
      "text/plain": [
       "array([3, 6, 9])"
      ]
     },
     "execution_count": 32,
     "metadata": {},
     "output_type": "execute_result"
    }
   ],
   "source": [
    "last_column=twod_mat[:,2]\n",
    "last_column"
   ]
  },
  {
   "cell_type": "code",
   "execution_count": 35,
   "id": "283795d5",
   "metadata": {},
   "outputs": [
    {
     "data": {
      "text/plain": [
       "array([4, 3, 2, 1])"
      ]
     },
     "execution_count": 35,
     "metadata": {},
     "output_type": "execute_result"
    }
   ],
   "source": [
    "oned_mat=np.array([1,2,3,4])\n",
    "reversed_mat=np.flip(oned_mat)\n",
    "reversed_mat"
   ]
  },
  {
   "cell_type": "code",
   "execution_count": 43,
   "id": "207e72ce",
   "metadata": {},
   "outputs": [
    {
     "data": {
      "text/plain": [
       "array([4, 8])"
      ]
     },
     "execution_count": 43,
     "metadata": {},
     "output_type": "execute_result"
    }
   ],
   "source": [
    "new_2d=np.array([[1,2,3],[4,9,8],[5,6,7]])\n",
    "condition_mat=new_2d[new_2d%4==0]\n",
    "condition_mat"
   ]
  },
  {
   "cell_type": "code",
   "execution_count": 45,
   "id": "798dfd96",
   "metadata": {},
   "outputs": [
    {
     "data": {
      "text/plain": [
       "array([[101, 102, 103],\n",
       "       [104, 109, 108],\n",
       "       [105, 106, 107]])"
      ]
     },
     "execution_count": 45,
     "metadata": {},
     "output_type": "execute_result"
    }
   ],
   "source": [
    "scalar_value=100\n",
    "updated_arr=new_2d+scalar_value\n",
    "updated_arr"
   ]
  },
  {
   "cell_type": "code",
   "execution_count": 48,
   "id": "52c9d91e",
   "metadata": {},
   "outputs": [
    {
     "data": {
      "text/plain": [
       "array([[ 11,  44, 102, 220],\n",
       "       [ 99, 176, 238, 330]])"
      ]
     },
     "execution_count": 48,
     "metadata": {},
     "output_type": "execute_result"
    }
   ],
   "source": [
    "first_arr=np.array([[1,2,3,4],[9,8,7,6]])\n",
    "second_arr=np.array([11,22,34,55])\n",
    "mul_arr=first_arr*second_arr\n",
    "mul_arr"
   ]
  },
  {
   "cell_type": "code",
   "execution_count": 50,
   "id": "438f08d0",
   "metadata": {},
   "outputs": [
    {
     "data": {
      "text/plain": [
       "3872"
      ]
     },
     "execution_count": 50,
     "metadata": {},
     "output_type": "execute_result"
    }
   ],
   "source": [
    "arr_one=np.array([11,22,33])\n",
    "arr_two=np.array([44,55,66])\n",
    "final_arr=np.dot(arr_one,arr_two)\n",
    "final_arr"
   ]
  },
  {
   "cell_type": "code",
   "execution_count": 55,
   "id": "369b11ab",
   "metadata": {},
   "outputs": [
    {
     "data": {
      "text/plain": [
       "array([[  67,  364, 3057],\n",
       "       [  69,  208, 1123],\n",
       "       [  34,  143, 1045]])"
      ]
     },
     "execution_count": 55,
     "metadata": {},
     "output_type": "execute_result"
    }
   ],
   "source": [
    "first_2d_arr=np.array([[1,2,3],[3,2,1],[1,1,1]])\n",
    "second_2d_arr=np.array([[11,22,33],[13,21,12],[10,100,1000]])\n",
    "matrix_mul=np.matmul(first_2d_arr,second_2d_arr)\n",
    "matrix_mul"
   ]
  },
  {
   "cell_type": "code",
   "execution_count": 56,
   "id": "0d1b3d35",
   "metadata": {},
   "outputs": [
    {
     "data": {
      "text/plain": [
       "array([[-2. ,  1. ],\n",
       "       [ 1.5, -0.5]])"
      ]
     },
     "execution_count": 56,
     "metadata": {},
     "output_type": "execute_result"
    }
   ],
   "source": [
    "inv_arr=np.array([[1,2],[3,4]])\n",
    "result=np.linalg.inv(inv_arr)\n",
    "result"
   ]
  },
  {
   "cell_type": "code",
   "execution_count": 58,
   "id": "d2b21b8d",
   "metadata": {},
   "outputs": [
    {
     "data": {
      "text/plain": [
       "-2.0000000000000004"
      ]
     },
     "execution_count": 58,
     "metadata": {},
     "output_type": "execute_result"
    }
   ],
   "source": [
    "final_result=np.linalg.det(inv_arr)\n",
    "final_result"
   ]
  },
  {
   "cell_type": "code",
   "execution_count": null,
   "id": "62191d8d",
   "metadata": {},
   "outputs": [],
   "source": []
  },
  {
   "cell_type": "code",
   "execution_count": null,
   "id": "273fec8b",
   "metadata": {},
   "outputs": [],
   "source": []
  }
 ],
 "metadata": {
  "kernelspec": {
   "display_name": "Python 3 (ipykernel)",
   "language": "python",
   "name": "python3"
  },
  "language_info": {
   "codemirror_mode": {
    "name": "ipython",
    "version": 3
   },
   "file_extension": ".py",
   "mimetype": "text/x-python",
   "name": "python",
   "nbconvert_exporter": "python",
   "pygments_lexer": "ipython3",
   "version": "3.11.7"
  }
 },
 "nbformat": 4,
 "nbformat_minor": 5
}
